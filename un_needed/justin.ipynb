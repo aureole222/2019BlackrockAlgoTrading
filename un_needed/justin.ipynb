{
 "cells": [
  {
   "cell_type": "code",
   "execution_count": 0,
   "metadata": {
    "colab": {},
    "colab_type": "code",
    "id": "H07qojKZiu9c"
   },
   "outputs": [],
   "source": []
  },
  {
   "cell_type": "markdown",
   "metadata": {
    "colab_type": "text",
    "id": "iYsBfS3JHBz-"
   },
   "source": []
  },
  {
   "cell_type": "code",
   "execution_count": 11,
   "metadata": {
    "colab": {
     "base_uri": "https://localhost:8080/",
     "height": 1000
    },
    "colab_type": "code",
    "id": "JGDiFCdUI-D9",
    "outputId": "d36352c4-35d2-4d32-eeb3-da5a0845ef0a"
   },
   "outputs": [
    {
     "name": "stdout",
     "output_type": "stream",
     "text": [
      "Collecting quandl\n",
      "  Downloading https://files.pythonhosted.org/packages/12/64/6314547cb01fa75697ddba6d6d43a9f1d023c1730ffc6abf3db7a0c89222/Quandl-3.4.8-py2.py3-none-any.whl\n",
      "Requirement already satisfied: python-dateutil in /usr/local/lib/python3.6/dist-packages (from quandl) (2.5.3)\n",
      "Requirement already satisfied: pandas>=0.14 in /usr/local/lib/python3.6/dist-packages (from quandl) (0.24.2)\n",
      "Requirement already satisfied: requests>=2.7.0 in /usr/local/lib/python3.6/dist-packages (from quandl) (2.21.0)\n",
      "Collecting more-itertools<=5.0.0 (from quandl)\n",
      "\u001b[?25l  Downloading https://files.pythonhosted.org/packages/a4/a6/42f17d065bda1fac255db13afc94c93dbfb64393eae37c749b4cb0752fc7/more_itertools-5.0.0-py3-none-any.whl (52kB)\n",
      "\u001b[K     |████████████████████████████████| 61kB 13.4MB/s \n",
      "\u001b[?25hCollecting inflection>=0.3.1 (from quandl)\n",
      "  Downloading https://files.pythonhosted.org/packages/d5/35/a6eb45b4e2356fe688b21570864d4aa0d0a880ce387defe9c589112077f8/inflection-0.3.1.tar.gz\n",
      "Requirement already satisfied: pyasn1 in /usr/local/lib/python3.6/dist-packages (from quandl) (0.4.7)\n",
      "Collecting ndg-httpsclient (from quandl)\n",
      "  Downloading https://files.pythonhosted.org/packages/fb/67/c2f508c00ed2a6911541494504b7cac16fe0b0473912568df65fd1801132/ndg_httpsclient-0.5.1-py3-none-any.whl\n",
      "Requirement already satisfied: six in /usr/local/lib/python3.6/dist-packages (from quandl) (1.12.0)\n",
      "Requirement already satisfied: numpy>=1.8 in /usr/local/lib/python3.6/dist-packages (from quandl) (1.16.5)\n",
      "Collecting pyOpenSSL (from quandl)\n",
      "\u001b[?25l  Downloading https://files.pythonhosted.org/packages/01/c8/ceb170d81bd3941cbeb9940fc6cc2ef2ca4288d0ca8929ea4db5905d904d/pyOpenSSL-19.0.0-py2.py3-none-any.whl (53kB)\n",
      "\u001b[K     |████████████████████████████████| 61kB 23.1MB/s \n",
      "\u001b[?25hRequirement already satisfied: pytz>=2011k in /usr/local/lib/python3.6/dist-packages (from pandas>=0.14->quandl) (2018.9)\n",
      "Requirement already satisfied: idna<2.9,>=2.5 in /usr/local/lib/python3.6/dist-packages (from requests>=2.7.0->quandl) (2.8)\n",
      "Requirement already satisfied: chardet<3.1.0,>=3.0.2 in /usr/local/lib/python3.6/dist-packages (from requests>=2.7.0->quandl) (3.0.4)\n",
      "Requirement already satisfied: urllib3<1.25,>=1.21.1 in /usr/local/lib/python3.6/dist-packages (from requests>=2.7.0->quandl) (1.24.3)\n",
      "Requirement already satisfied: certifi>=2017.4.17 in /usr/local/lib/python3.6/dist-packages (from requests>=2.7.0->quandl) (2019.9.11)\n",
      "Collecting cryptography>=2.3 (from pyOpenSSL->quandl)\n",
      "\u001b[?25l  Downloading https://files.pythonhosted.org/packages/ca/9a/7cece52c46546e214e10811b36b2da52ce1ea7fa203203a629b8dfadad53/cryptography-2.8-cp34-abi3-manylinux2010_x86_64.whl (2.3MB)\n",
      "\u001b[K     |████████████████████████████████| 2.3MB 19.4MB/s \n",
      "\u001b[?25hRequirement already satisfied: cffi!=1.11.3,>=1.8 in /usr/local/lib/python3.6/dist-packages (from cryptography>=2.3->pyOpenSSL->quandl) (1.13.0)\n",
      "Requirement already satisfied: pycparser in /usr/local/lib/python3.6/dist-packages (from cffi!=1.11.3,>=1.8->cryptography>=2.3->pyOpenSSL->quandl) (2.19)\n",
      "Building wheels for collected packages: inflection\n",
      "  Building wheel for inflection (setup.py) ... \u001b[?25l\u001b[?25hdone\n",
      "  Created wheel for inflection: filename=inflection-0.3.1-cp36-none-any.whl size=6076 sha256=77e607145041999c423ffe88a8ef756f6762f60fea1df2fd3855617a8a9dbe4d\n",
      "  Stored in directory: /root/.cache/pip/wheels/9f/5a/d3/6fc3bf6516d2a3eb7e18f9f28b472110b59325f3f258fe9211\n",
      "Successfully built inflection\n",
      "\u001b[31mERROR: datascience 0.10.6 has requirement folium==0.2.1, but you'll have folium 0.8.3 which is incompatible.\u001b[0m\n",
      "Installing collected packages: more-itertools, inflection, cryptography, pyOpenSSL, ndg-httpsclient, quandl\n",
      "  Found existing installation: more-itertools 7.2.0\n",
      "    Uninstalling more-itertools-7.2.0:\n",
      "      Successfully uninstalled more-itertools-7.2.0\n",
      "Successfully installed cryptography-2.8 inflection-0.3.1 more-itertools-5.0.0 ndg-httpsclient-0.5.1 pyOpenSSL-19.0.0 quandl-3.4.8\n"
     ]
    },
    {
     "data": {
      "application/vnd.colab-display-data+json": {
       "pip_warning": {
        "packages": [
         "more_itertools"
        ]
       }
      }
     },
     "metadata": {
      "tags": []
     },
     "output_type": "display_data"
    },
    {
     "ename": "FileNotFoundError",
     "evalue": "ignored",
     "output_type": "error",
     "traceback": [
      "\u001b[0;31m---------------------------------------------------------------------------\u001b[0m",
      "\u001b[0;31mFileNotFoundError\u001b[0m                         Traceback (most recent call last)",
      "\u001b[0;32m<ipython-input-11-7dccfe4bc74c>\u001b[0m in \u001b[0;36m<module>\u001b[0;34m()\u001b[0m\n\u001b[1;32m      5\u001b[0m \u001b[0mos\u001b[0m\u001b[0;34m.\u001b[0m\u001b[0mgetcwd\u001b[0m\u001b[0;34m(\u001b[0m\u001b[0;34m)\u001b[0m\u001b[0;34m\u001b[0m\u001b[0;34m\u001b[0m\u001b[0m\n\u001b[1;32m      6\u001b[0m \u001b[0;34m\u001b[0m\u001b[0m\n\u001b[0;32m----> 7\u001b[0;31m \u001b[0mpd\u001b[0m\u001b[0;34m.\u001b[0m\u001b[0mread_csv\u001b[0m\u001b[0;34m(\u001b[0m\u001b[0;34m'GSCR-GSPLY.csv'\u001b[0m\u001b[0;34m)\u001b[0m\u001b[0;34m\u001b[0m\u001b[0;34m\u001b[0m\u001b[0m\n\u001b[0m",
      "\u001b[0;32m/usr/local/lib/python3.6/dist-packages/pandas/io/parsers.py\u001b[0m in \u001b[0;36mparser_f\u001b[0;34m(filepath_or_buffer, sep, delimiter, header, names, index_col, usecols, squeeze, prefix, mangle_dupe_cols, dtype, engine, converters, true_values, false_values, skipinitialspace, skiprows, skipfooter, nrows, na_values, keep_default_na, na_filter, verbose, skip_blank_lines, parse_dates, infer_datetime_format, keep_date_col, date_parser, dayfirst, iterator, chunksize, compression, thousands, decimal, lineterminator, quotechar, quoting, doublequote, escapechar, comment, encoding, dialect, tupleize_cols, error_bad_lines, warn_bad_lines, delim_whitespace, low_memory, memory_map, float_precision)\u001b[0m\n\u001b[1;32m    700\u001b[0m                     skip_blank_lines=skip_blank_lines)\n\u001b[1;32m    701\u001b[0m \u001b[0;34m\u001b[0m\u001b[0m\n\u001b[0;32m--> 702\u001b[0;31m         \u001b[0;32mreturn\u001b[0m \u001b[0m_read\u001b[0m\u001b[0;34m(\u001b[0m\u001b[0mfilepath_or_buffer\u001b[0m\u001b[0;34m,\u001b[0m \u001b[0mkwds\u001b[0m\u001b[0;34m)\u001b[0m\u001b[0;34m\u001b[0m\u001b[0;34m\u001b[0m\u001b[0m\n\u001b[0m\u001b[1;32m    703\u001b[0m \u001b[0;34m\u001b[0m\u001b[0m\n\u001b[1;32m    704\u001b[0m     \u001b[0mparser_f\u001b[0m\u001b[0;34m.\u001b[0m\u001b[0m__name__\u001b[0m \u001b[0;34m=\u001b[0m \u001b[0mname\u001b[0m\u001b[0;34m\u001b[0m\u001b[0;34m\u001b[0m\u001b[0m\n",
      "\u001b[0;32m/usr/local/lib/python3.6/dist-packages/pandas/io/parsers.py\u001b[0m in \u001b[0;36m_read\u001b[0;34m(filepath_or_buffer, kwds)\u001b[0m\n\u001b[1;32m    427\u001b[0m \u001b[0;34m\u001b[0m\u001b[0m\n\u001b[1;32m    428\u001b[0m     \u001b[0;31m# Create the parser.\u001b[0m\u001b[0;34m\u001b[0m\u001b[0;34m\u001b[0m\u001b[0;34m\u001b[0m\u001b[0m\n\u001b[0;32m--> 429\u001b[0;31m     \u001b[0mparser\u001b[0m \u001b[0;34m=\u001b[0m \u001b[0mTextFileReader\u001b[0m\u001b[0;34m(\u001b[0m\u001b[0mfilepath_or_buffer\u001b[0m\u001b[0;34m,\u001b[0m \u001b[0;34m**\u001b[0m\u001b[0mkwds\u001b[0m\u001b[0;34m)\u001b[0m\u001b[0;34m\u001b[0m\u001b[0;34m\u001b[0m\u001b[0m\n\u001b[0m\u001b[1;32m    430\u001b[0m \u001b[0;34m\u001b[0m\u001b[0m\n\u001b[1;32m    431\u001b[0m     \u001b[0;32mif\u001b[0m \u001b[0mchunksize\u001b[0m \u001b[0;32mor\u001b[0m \u001b[0miterator\u001b[0m\u001b[0;34m:\u001b[0m\u001b[0;34m\u001b[0m\u001b[0;34m\u001b[0m\u001b[0m\n",
      "\u001b[0;32m/usr/local/lib/python3.6/dist-packages/pandas/io/parsers.py\u001b[0m in \u001b[0;36m__init__\u001b[0;34m(self, f, engine, **kwds)\u001b[0m\n\u001b[1;32m    893\u001b[0m             \u001b[0mself\u001b[0m\u001b[0;34m.\u001b[0m\u001b[0moptions\u001b[0m\u001b[0;34m[\u001b[0m\u001b[0;34m'has_index_names'\u001b[0m\u001b[0;34m]\u001b[0m \u001b[0;34m=\u001b[0m \u001b[0mkwds\u001b[0m\u001b[0;34m[\u001b[0m\u001b[0;34m'has_index_names'\u001b[0m\u001b[0;34m]\u001b[0m\u001b[0;34m\u001b[0m\u001b[0;34m\u001b[0m\u001b[0m\n\u001b[1;32m    894\u001b[0m \u001b[0;34m\u001b[0m\u001b[0m\n\u001b[0;32m--> 895\u001b[0;31m         \u001b[0mself\u001b[0m\u001b[0;34m.\u001b[0m\u001b[0m_make_engine\u001b[0m\u001b[0;34m(\u001b[0m\u001b[0mself\u001b[0m\u001b[0;34m.\u001b[0m\u001b[0mengine\u001b[0m\u001b[0;34m)\u001b[0m\u001b[0;34m\u001b[0m\u001b[0;34m\u001b[0m\u001b[0m\n\u001b[0m\u001b[1;32m    896\u001b[0m \u001b[0;34m\u001b[0m\u001b[0m\n\u001b[1;32m    897\u001b[0m     \u001b[0;32mdef\u001b[0m \u001b[0mclose\u001b[0m\u001b[0;34m(\u001b[0m\u001b[0mself\u001b[0m\u001b[0;34m)\u001b[0m\u001b[0;34m:\u001b[0m\u001b[0;34m\u001b[0m\u001b[0;34m\u001b[0m\u001b[0m\n",
      "\u001b[0;32m/usr/local/lib/python3.6/dist-packages/pandas/io/parsers.py\u001b[0m in \u001b[0;36m_make_engine\u001b[0;34m(self, engine)\u001b[0m\n\u001b[1;32m   1120\u001b[0m     \u001b[0;32mdef\u001b[0m \u001b[0m_make_engine\u001b[0m\u001b[0;34m(\u001b[0m\u001b[0mself\u001b[0m\u001b[0;34m,\u001b[0m \u001b[0mengine\u001b[0m\u001b[0;34m=\u001b[0m\u001b[0;34m'c'\u001b[0m\u001b[0;34m)\u001b[0m\u001b[0;34m:\u001b[0m\u001b[0;34m\u001b[0m\u001b[0;34m\u001b[0m\u001b[0m\n\u001b[1;32m   1121\u001b[0m         \u001b[0;32mif\u001b[0m \u001b[0mengine\u001b[0m \u001b[0;34m==\u001b[0m \u001b[0;34m'c'\u001b[0m\u001b[0;34m:\u001b[0m\u001b[0;34m\u001b[0m\u001b[0;34m\u001b[0m\u001b[0m\n\u001b[0;32m-> 1122\u001b[0;31m             \u001b[0mself\u001b[0m\u001b[0;34m.\u001b[0m\u001b[0m_engine\u001b[0m \u001b[0;34m=\u001b[0m \u001b[0mCParserWrapper\u001b[0m\u001b[0;34m(\u001b[0m\u001b[0mself\u001b[0m\u001b[0;34m.\u001b[0m\u001b[0mf\u001b[0m\u001b[0;34m,\u001b[0m \u001b[0;34m**\u001b[0m\u001b[0mself\u001b[0m\u001b[0;34m.\u001b[0m\u001b[0moptions\u001b[0m\u001b[0;34m)\u001b[0m\u001b[0;34m\u001b[0m\u001b[0;34m\u001b[0m\u001b[0m\n\u001b[0m\u001b[1;32m   1123\u001b[0m         \u001b[0;32melse\u001b[0m\u001b[0;34m:\u001b[0m\u001b[0;34m\u001b[0m\u001b[0;34m\u001b[0m\u001b[0m\n\u001b[1;32m   1124\u001b[0m             \u001b[0;32mif\u001b[0m \u001b[0mengine\u001b[0m \u001b[0;34m==\u001b[0m \u001b[0;34m'python'\u001b[0m\u001b[0;34m:\u001b[0m\u001b[0;34m\u001b[0m\u001b[0;34m\u001b[0m\u001b[0m\n",
      "\u001b[0;32m/usr/local/lib/python3.6/dist-packages/pandas/io/parsers.py\u001b[0m in \u001b[0;36m__init__\u001b[0;34m(self, src, **kwds)\u001b[0m\n\u001b[1;32m   1851\u001b[0m         \u001b[0mkwds\u001b[0m\u001b[0;34m[\u001b[0m\u001b[0;34m'usecols'\u001b[0m\u001b[0;34m]\u001b[0m \u001b[0;34m=\u001b[0m \u001b[0mself\u001b[0m\u001b[0;34m.\u001b[0m\u001b[0musecols\u001b[0m\u001b[0;34m\u001b[0m\u001b[0;34m\u001b[0m\u001b[0m\n\u001b[1;32m   1852\u001b[0m \u001b[0;34m\u001b[0m\u001b[0m\n\u001b[0;32m-> 1853\u001b[0;31m         \u001b[0mself\u001b[0m\u001b[0;34m.\u001b[0m\u001b[0m_reader\u001b[0m \u001b[0;34m=\u001b[0m \u001b[0mparsers\u001b[0m\u001b[0;34m.\u001b[0m\u001b[0mTextReader\u001b[0m\u001b[0;34m(\u001b[0m\u001b[0msrc\u001b[0m\u001b[0;34m,\u001b[0m \u001b[0;34m**\u001b[0m\u001b[0mkwds\u001b[0m\u001b[0;34m)\u001b[0m\u001b[0;34m\u001b[0m\u001b[0;34m\u001b[0m\u001b[0m\n\u001b[0m\u001b[1;32m   1854\u001b[0m         \u001b[0mself\u001b[0m\u001b[0;34m.\u001b[0m\u001b[0munnamed_cols\u001b[0m \u001b[0;34m=\u001b[0m \u001b[0mself\u001b[0m\u001b[0;34m.\u001b[0m\u001b[0m_reader\u001b[0m\u001b[0;34m.\u001b[0m\u001b[0munnamed_cols\u001b[0m\u001b[0;34m\u001b[0m\u001b[0;34m\u001b[0m\u001b[0m\n\u001b[1;32m   1855\u001b[0m \u001b[0;34m\u001b[0m\u001b[0m\n",
      "\u001b[0;32mpandas/_libs/parsers.pyx\u001b[0m in \u001b[0;36mpandas._libs.parsers.TextReader.__cinit__\u001b[0;34m()\u001b[0m\n",
      "\u001b[0;32mpandas/_libs/parsers.pyx\u001b[0m in \u001b[0;36mpandas._libs.parsers.TextReader._setup_parser_source\u001b[0;34m()\u001b[0m\n",
      "\u001b[0;31mFileNotFoundError\u001b[0m: [Errno 2] File b'GSCR-GSPLY.csv' does not exist: b'GSCR-GSPLY.csv'"
     ]
    }
   ],
   "source": [
    "%pip install quandl\n",
    "import numpy as np\n",
    "import pandas as pd\n",
    "import os\n",
    "os.getcwd()\n",
    "\n",
    "pd.read_csv('GSCR-GSPLY.csv')"
   ]
  },
  {
   "cell_type": "code",
   "execution_count": 0,
   "metadata": {
    "colab": {},
    "colab_type": "code",
    "id": "BwBqzLc5wbyx"
   },
   "outputs": [],
   "source": [
    "RESOURCE_ENDPOINT = 'https://dsa-stg-edp-api.fr-nonprod.aws.thomsonreuters.com/data/environmental-social-governance/v1/views/scores-full'\n",
    "access_token = 'toA5Om03LO37RppPboL9l990mn04RznI82npo3qq'\n",
    "import requests\n",
    "import json\n",
    "import pandas as pd\n",
    "import math\n",
    "import matplotlib.pyplot as plt\n",
    "import numpy as np\n",
    "import seaborn as sns\n",
    "pd.set_option('display.max_columns', None)\n"
   ]
  },
  {
   "cell_type": "code",
   "execution_count": 0,
   "metadata": {
    "colab": {},
    "colab_type": "code",
    "id": "W0-M-zwCrJ75"
   },
   "outputs": [],
   "source": [
    "def get_data_request(url, requestData):\n",
    "    '''HTTP GET request'''\n",
    "    dResp = requests.get(url, headers = {'X-api-key': access_token}, params = requestData);       \n",
    "\n",
    "    if dResp.status_code != 200:\n",
    "        raise ValueError(\"Unable to get data. Code %s, Message: %s\" % (dResp.status_code, dResp.text));\n",
    "    else:\n",
    "        print(\"Data access successful\")\n",
    "        jResp = json.loads(dResp.text);\n",
    "        return jResp"
   ]
  },
  {
   "cell_type": "code",
   "execution_count": 0,
   "metadata": {
    "colab": {},
    "colab_type": "code",
    "id": "K5I5ts_irMeJ"
   },
   "outputs": [],
   "source": [
    "def get_data(ric):\n",
    "    '''Gets ESG scores for a specific RIC (company) code'''\n",
    "    \n",
    "    requestData = {\n",
    "    \"universe\": ric\n",
    "    };\n",
    "\n",
    "    jResp = get_data_request(RESOURCE_ENDPOINT, requestData)\n",
    "\n",
    "    data = jResp[\"data\"]\n",
    "    headers = jResp[\"headers\"]    \n",
    "\n",
    "    names = [headers[x]['title'] for x in range(len(headers))]\n",
    "\n",
    "    df = pd.DataFrame(data, columns=names )\n",
    "    \n",
    "    return df"
   ]
  },
  {
   "cell_type": "code",
   "execution_count": 0,
   "metadata": {
    "colab": {},
    "colab_type": "code",
    "id": "xAkVDtPkrcxb"
   },
   "outputs": [],
   "source": [
    "# Get ESG scores for Thomson Reuters (TRI.TO)\n",
    "\n",
    "esg = get_data(\"PG.TO\")\n",
    "\n",
    "esg"
   ]
  },
  {
   "cell_type": "code",
   "execution_count": 0,
   "metadata": {
    "colab": {},
    "colab_type": "code",
    "id": "mChCfGh31CKL"
   },
   "outputs": [],
   "source": [
    "\n",
    "tempdf=(get_data(\"PG.TO\")[['Period End Date','Shareholders Score',\"Instrument\"]]).sort_values(by=[\"Period End Date\"])\n",
    "tempdf.index=tempdf[[\"Period End Date\"]]\n",
    "tempdf.drop(columns=[\"Period End Date\"])"
   ]
  },
  {
   "cell_type": "code",
   "execution_count": 49,
   "metadata": {
    "colab": {
     "base_uri": "https://localhost:8080/",
     "height": 593
    },
    "colab_type": "code",
    "id": "jirdSs1iXT2Q",
    "outputId": "7b7526a7-6e07-4b57-b4ba-6bf9a94a74bb"
   },
   "outputs": [
    {
     "name": "stdout",
     "output_type": "stream",
     "text": [
      "Data access successful\n"
     ]
    },
    {
     "data": {
      "text/html": [
       "<div>\n",
       "<style scoped>\n",
       "    .dataframe tbody tr th:only-of-type {\n",
       "        vertical-align: middle;\n",
       "    }\n",
       "\n",
       "    .dataframe tbody tr th {\n",
       "        vertical-align: top;\n",
       "    }\n",
       "\n",
       "    .dataframe thead th {\n",
       "        text-align: right;\n",
       "    }\n",
       "</style>\n",
       "<table border=\"1\" class=\"dataframe\">\n",
       "  <thead>\n",
       "    <tr style=\"text-align: right;\">\n",
       "      <th></th>\n",
       "      <th>Shareholders Score</th>\n",
       "      <th>Instrument</th>\n",
       "    </tr>\n",
       "  </thead>\n",
       "  <tbody>\n",
       "    <tr>\n",
       "      <th>(2002-12-31,)</th>\n",
       "      <td>79.322430</td>\n",
       "      <td>JPM.TO</td>\n",
       "    </tr>\n",
       "    <tr>\n",
       "      <th>(2003-12-31,)</th>\n",
       "      <td>84.731935</td>\n",
       "      <td>JPM.TO</td>\n",
       "    </tr>\n",
       "    <tr>\n",
       "      <th>(2004-12-31,)</th>\n",
       "      <td>71.949153</td>\n",
       "      <td>JPM.TO</td>\n",
       "    </tr>\n",
       "    <tr>\n",
       "      <th>(2005-12-31,)</th>\n",
       "      <td>91.578149</td>\n",
       "      <td>JPM.TO</td>\n",
       "    </tr>\n",
       "    <tr>\n",
       "      <th>(2006-12-31,)</th>\n",
       "      <td>89.924242</td>\n",
       "      <td>JPM.TO</td>\n",
       "    </tr>\n",
       "    <tr>\n",
       "      <th>(2007-12-31,)</th>\n",
       "      <td>66.344725</td>\n",
       "      <td>JPM.TO</td>\n",
       "    </tr>\n",
       "    <tr>\n",
       "      <th>(2008-12-31,)</th>\n",
       "      <td>60.550996</td>\n",
       "      <td>JPM.TO</td>\n",
       "    </tr>\n",
       "    <tr>\n",
       "      <th>(2009-12-31,)</th>\n",
       "      <td>64.047867</td>\n",
       "      <td>JPM.TO</td>\n",
       "    </tr>\n",
       "    <tr>\n",
       "      <th>(2010-12-31,)</th>\n",
       "      <td>35.172065</td>\n",
       "      <td>JPM.TO</td>\n",
       "    </tr>\n",
       "    <tr>\n",
       "      <th>(2011-12-31,)</th>\n",
       "      <td>20.030738</td>\n",
       "      <td>JPM.TO</td>\n",
       "    </tr>\n",
       "    <tr>\n",
       "      <th>(2012-12-31,)</th>\n",
       "      <td>17.112025</td>\n",
       "      <td>JPM.TO</td>\n",
       "    </tr>\n",
       "    <tr>\n",
       "      <th>(2013-12-31,)</th>\n",
       "      <td>14.133739</td>\n",
       "      <td>JPM.TO</td>\n",
       "    </tr>\n",
       "    <tr>\n",
       "      <th>(2014-12-31,)</th>\n",
       "      <td>46.003996</td>\n",
       "      <td>JPM.TO</td>\n",
       "    </tr>\n",
       "    <tr>\n",
       "      <th>(2015-12-31,)</th>\n",
       "      <td>50.088863</td>\n",
       "      <td>JPM.TO</td>\n",
       "    </tr>\n",
       "    <tr>\n",
       "      <th>(2016-12-31,)</th>\n",
       "      <td>53.267045</td>\n",
       "      <td>JPM.TO</td>\n",
       "    </tr>\n",
       "    <tr>\n",
       "      <th>(2017-12-31,)</th>\n",
       "      <td>77.999268</td>\n",
       "      <td>JPM.TO</td>\n",
       "    </tr>\n",
       "    <tr>\n",
       "      <th>(2018-12-31,)</th>\n",
       "      <td>54.312920</td>\n",
       "      <td>JPM.TO</td>\n",
       "    </tr>\n",
       "  </tbody>\n",
       "</table>\n",
       "</div>"
      ],
      "text/plain": [
       "               Shareholders Score Instrument\n",
       "(2002-12-31,)           79.322430     JPM.TO\n",
       "(2003-12-31,)           84.731935     JPM.TO\n",
       "(2004-12-31,)           71.949153     JPM.TO\n",
       "(2005-12-31,)           91.578149     JPM.TO\n",
       "(2006-12-31,)           89.924242     JPM.TO\n",
       "(2007-12-31,)           66.344725     JPM.TO\n",
       "(2008-12-31,)           60.550996     JPM.TO\n",
       "(2009-12-31,)           64.047867     JPM.TO\n",
       "(2010-12-31,)           35.172065     JPM.TO\n",
       "(2011-12-31,)           20.030738     JPM.TO\n",
       "(2012-12-31,)           17.112025     JPM.TO\n",
       "(2013-12-31,)           14.133739     JPM.TO\n",
       "(2014-12-31,)           46.003996     JPM.TO\n",
       "(2015-12-31,)           50.088863     JPM.TO\n",
       "(2016-12-31,)           53.267045     JPM.TO\n",
       "(2017-12-31,)           77.999268     JPM.TO\n",
       "(2018-12-31,)           54.312920     JPM.TO"
      ]
     },
     "execution_count": 49,
     "metadata": {
      "tags": []
     },
     "output_type": "execute_result"
    }
   ],
   "source": [
    "# Get ESG scores for Thomson Reuters (TRI.TO)\n",
    "\n",
    "df = []\n",
    "\n",
    "tempdf=(get_data(\"JPM.TO\")[['Period End Date','Shareholders Score',\"Instrument\"]]).sort_values(by=[\"Period End Date\"])\n",
    "tempdf.index=tempdf[[\"Period End Date\"]]\n",
    "df.append(tempdf.drop(columns=[\"Period End Date\"]))\n",
    "df=pd.concat(df,axis=1,sort=True)\n",
    "\n",
    "df"
   ]
  },
  {
   "cell_type": "code",
   "execution_count": 50,
   "metadata": {
    "colab": {
     "base_uri": "https://localhost:8080/",
     "height": 576
    },
    "colab_type": "code",
    "id": "_FcUwDgVXX1_",
    "outputId": "e89df1c0-e77a-46d0-b473-bf03524f589b"
   },
   "outputs": [
    {
     "data": {
      "text/html": [
       "<div>\n",
       "<style scoped>\n",
       "    .dataframe tbody tr th:only-of-type {\n",
       "        vertical-align: middle;\n",
       "    }\n",
       "\n",
       "    .dataframe tbody tr th {\n",
       "        vertical-align: top;\n",
       "    }\n",
       "\n",
       "    .dataframe thead th {\n",
       "        text-align: right;\n",
       "    }\n",
       "</style>\n",
       "<table border=\"1\" class=\"dataframe\">\n",
       "  <thead>\n",
       "    <tr style=\"text-align: right;\">\n",
       "      <th></th>\n",
       "      <th>Shareholders Score</th>\n",
       "      <th>Instrument</th>\n",
       "      <th>avg_shareholders_score</th>\n",
       "    </tr>\n",
       "  </thead>\n",
       "  <tbody>\n",
       "    <tr>\n",
       "      <th>(2002-12-31,)</th>\n",
       "      <td>79.322430</td>\n",
       "      <td>JPM.TO</td>\n",
       "      <td>79.322430</td>\n",
       "    </tr>\n",
       "    <tr>\n",
       "      <th>(2003-12-31,)</th>\n",
       "      <td>84.731935</td>\n",
       "      <td>JPM.TO</td>\n",
       "      <td>84.731935</td>\n",
       "    </tr>\n",
       "    <tr>\n",
       "      <th>(2004-12-31,)</th>\n",
       "      <td>71.949153</td>\n",
       "      <td>JPM.TO</td>\n",
       "      <td>71.949153</td>\n",
       "    </tr>\n",
       "    <tr>\n",
       "      <th>(2005-12-31,)</th>\n",
       "      <td>91.578149</td>\n",
       "      <td>JPM.TO</td>\n",
       "      <td>91.578149</td>\n",
       "    </tr>\n",
       "    <tr>\n",
       "      <th>(2006-12-31,)</th>\n",
       "      <td>89.924242</td>\n",
       "      <td>JPM.TO</td>\n",
       "      <td>89.924242</td>\n",
       "    </tr>\n",
       "    <tr>\n",
       "      <th>(2007-12-31,)</th>\n",
       "      <td>66.344725</td>\n",
       "      <td>JPM.TO</td>\n",
       "      <td>66.344725</td>\n",
       "    </tr>\n",
       "    <tr>\n",
       "      <th>(2008-12-31,)</th>\n",
       "      <td>60.550996</td>\n",
       "      <td>JPM.TO</td>\n",
       "      <td>60.550996</td>\n",
       "    </tr>\n",
       "    <tr>\n",
       "      <th>(2009-12-31,)</th>\n",
       "      <td>64.047867</td>\n",
       "      <td>JPM.TO</td>\n",
       "      <td>64.047867</td>\n",
       "    </tr>\n",
       "    <tr>\n",
       "      <th>(2010-12-31,)</th>\n",
       "      <td>35.172065</td>\n",
       "      <td>JPM.TO</td>\n",
       "      <td>35.172065</td>\n",
       "    </tr>\n",
       "    <tr>\n",
       "      <th>(2011-12-31,)</th>\n",
       "      <td>20.030738</td>\n",
       "      <td>JPM.TO</td>\n",
       "      <td>20.030738</td>\n",
       "    </tr>\n",
       "    <tr>\n",
       "      <th>(2012-12-31,)</th>\n",
       "      <td>17.112025</td>\n",
       "      <td>JPM.TO</td>\n",
       "      <td>17.112025</td>\n",
       "    </tr>\n",
       "    <tr>\n",
       "      <th>(2013-12-31,)</th>\n",
       "      <td>14.133739</td>\n",
       "      <td>JPM.TO</td>\n",
       "      <td>14.133739</td>\n",
       "    </tr>\n",
       "    <tr>\n",
       "      <th>(2014-12-31,)</th>\n",
       "      <td>46.003996</td>\n",
       "      <td>JPM.TO</td>\n",
       "      <td>46.003996</td>\n",
       "    </tr>\n",
       "    <tr>\n",
       "      <th>(2015-12-31,)</th>\n",
       "      <td>50.088863</td>\n",
       "      <td>JPM.TO</td>\n",
       "      <td>50.088863</td>\n",
       "    </tr>\n",
       "    <tr>\n",
       "      <th>(2016-12-31,)</th>\n",
       "      <td>53.267045</td>\n",
       "      <td>JPM.TO</td>\n",
       "      <td>53.267045</td>\n",
       "    </tr>\n",
       "    <tr>\n",
       "      <th>(2017-12-31,)</th>\n",
       "      <td>77.999268</td>\n",
       "      <td>JPM.TO</td>\n",
       "      <td>77.999268</td>\n",
       "    </tr>\n",
       "    <tr>\n",
       "      <th>(2018-12-31,)</th>\n",
       "      <td>54.312920</td>\n",
       "      <td>JPM.TO</td>\n",
       "      <td>54.312920</td>\n",
       "    </tr>\n",
       "  </tbody>\n",
       "</table>\n",
       "</div>"
      ],
      "text/plain": [
       "               Shareholders Score Instrument  avg_shareholders_score\n",
       "(2002-12-31,)           79.322430     JPM.TO               79.322430\n",
       "(2003-12-31,)           84.731935     JPM.TO               84.731935\n",
       "(2004-12-31,)           71.949153     JPM.TO               71.949153\n",
       "(2005-12-31,)           91.578149     JPM.TO               91.578149\n",
       "(2006-12-31,)           89.924242     JPM.TO               89.924242\n",
       "(2007-12-31,)           66.344725     JPM.TO               66.344725\n",
       "(2008-12-31,)           60.550996     JPM.TO               60.550996\n",
       "(2009-12-31,)           64.047867     JPM.TO               64.047867\n",
       "(2010-12-31,)           35.172065     JPM.TO               35.172065\n",
       "(2011-12-31,)           20.030738     JPM.TO               20.030738\n",
       "(2012-12-31,)           17.112025     JPM.TO               17.112025\n",
       "(2013-12-31,)           14.133739     JPM.TO               14.133739\n",
       "(2014-12-31,)           46.003996     JPM.TO               46.003996\n",
       "(2015-12-31,)           50.088863     JPM.TO               50.088863\n",
       "(2016-12-31,)           53.267045     JPM.TO               53.267045\n",
       "(2017-12-31,)           77.999268     JPM.TO               77.999268\n",
       "(2018-12-31,)           54.312920     JPM.TO               54.312920"
      ]
     },
     "execution_count": 50,
     "metadata": {
      "tags": []
     },
     "output_type": "execute_result"
    }
   ],
   "source": [
    "df = df.dropna()\n",
    "\n",
    "df['avg_shareholders_score'] = df.iloc[:,[0]].mean(axis=1)\n",
    "df"
   ]
  },
  {
   "cell_type": "code",
   "execution_count": 0,
   "metadata": {
    "colab": {},
    "colab_type": "code",
    "id": "MCcGAYYQXakA"
   },
   "outputs": [],
   "source": [
    "import quandl\n",
    "df1 = pd.DataFrame()\n",
    "\n",
    "df1[\"EOD/PG\"[4:]] = quandl.get(\"EOD/PG\", authtoken=\"drqWFkF848vPCCKcX77U\").loc[:,'Adj_Close']\n",
    "    \n",
    "df1.dropna()"
   ]
  },
  {
   "cell_type": "code",
   "execution_count": 53,
   "metadata": {
    "colab": {
     "base_uri": "https://localhost:8080/",
     "height": 306
    },
    "colab_type": "code",
    "id": "sTJX1zXeXeYE",
    "outputId": "8eae8832-d409-4c27-c2a6-653be48ff5a6"
   },
   "outputs": [
    {
     "data": {
      "text/plain": [
       "[1.000358110295982,\n",
       " 1.0005876266600129,\n",
       " 1.0004987453140817,\n",
       " 1.0002671589414023,\n",
       " 1.0004382418008995,\n",
       " 1.0005964302153323,\n",
       " 0.9994749177607466,\n",
       " 0.9999849285800443,\n",
       " 1.0003233254972297,\n",
       " 1.0002430642459754,\n",
       " 1.0001948709049238,\n",
       " 1.0007571433464781,\n",
       " 1.000611958362423,\n",
       " 0.9996123658310552,\n",
       " 1.000407918632466,\n",
       " 1.0004705628394357,\n",
       " 1.000195321610755]"
      ]
     },
     "execution_count": 53,
     "metadata": {
      "tags": []
     },
     "output_type": "execute_result"
    }
   ],
   "source": [
    "df1.loc[np.logical_and(df1.index.year>=2002,df1.index.year<=2019)]\n",
    "\n",
    "from functools import reduce\n",
    "result=[]\n",
    "for getyear in range(2002,2019):\n",
    "    tempdf=df1.loc[df1.index.year==getyear]\n",
    "    tempdf2=[tempdf[x] for x in df1.loc[df1.index.year==getyear]]\n",
    "    result.append([reduce(lambda x,y:x*y,[tempdf2[j][i+1]/tempdf2[j][i] for i in range(len(tempdf2[j])-1)])**(1/len(tempdf2[j])) for j in range(len(tempdf2))])\n",
    "\n",
    "[np.mean(x) for x in result]"
   ]
  },
  {
   "cell_type": "code",
   "execution_count": 56,
   "metadata": {
    "colab": {
     "base_uri": "https://localhost:8080/",
     "height": 34
    },
    "colab_type": "code",
    "id": "k_jjoKpfXnQo",
    "outputId": "8c1b1f68-a19f-4390-a03d-3b8cc8b67a9d"
   },
   "outputs": [
    {
     "data": {
      "text/plain": [
       "0.031751522900822414"
      ]
     },
     "execution_count": 56,
     "metadata": {
      "tags": []
     },
     "output_type": "execute_result"
    }
   ],
   "source": [
    "ddf=pd.DataFrame(df[[\"avg_shareholders_score\"]])\n",
    "\n",
    "ddf=ddf.assign(avg_return=[np.mean(x) for x in result])\n",
    "corr_p = ddf[['avg_shareholders_score','avg_return']].corr('pearson').iloc[0,1]\n",
    "corr_p"
   ]
  },
  {
   "cell_type": "code",
   "execution_count": 57,
   "metadata": {
    "colab": {
     "base_uri": "https://localhost:8080/",
     "height": 34
    },
    "colab_type": "code",
    "id": "aI8VpNj5icOQ",
    "outputId": "b40ee919-c7f2-4490-b50d-b0245e1c141a"
   },
   "outputs": [
    {
     "data": {
      "text/plain": [
       "0.11519607843137254"
      ]
     },
     "execution_count": 57,
     "metadata": {
      "tags": []
     },
     "output_type": "execute_result"
    }
   ],
   "source": [
    "\n",
    "corr_s = ddf[['avg_shareholders_score','avg_return']].corr('spearman').iloc[0,1]\n",
    "\n",
    "corr_s"
   ]
  },
  {
   "cell_type": "code",
   "execution_count": 58,
   "metadata": {
    "colab": {
     "base_uri": "https://localhost:8080/",
     "height": 624
    },
    "colab_type": "code",
    "id": "LVlCb1aiqFXT",
    "outputId": "a6dc99ca-d5a3-4814-8afa-84fcc533ee64"
   },
   "outputs": [
    {
     "data": {
      "text/plain": [
       "[]"
      ]
     },
     "execution_count": 58,
     "metadata": {
      "tags": []
     },
     "output_type": "execute_result"
    },
    {
     "data": {
      "image/png": "[encoded data removed]",
      "text/plain": [
       "<Figure size 1440x720 with 2 Axes>"
      ]
     },
     "metadata": {
      "tags": []
     },
     "output_type": "display_data"
    }
   ],
   "source": [
    "import matplotlib.pyplot as plt\n",
    "\n",
    "\n",
    "x = range(len(ddf))\n",
    "y1 = ddf.avg_shareholders_score\n",
    "y2 = ddf.avg_return\n",
    "\n",
    "fig = plt.figure(figsize=(20,10))\n",
    "ax1 = fig.add_subplot(111)\n",
    "ax1.plot(x, y1)\n",
    "ax1.set_ylabel('avg_shareholders_score')\n",
    "ax1.set_title(\"PG\")\n",
    "ax1.legend()\n",
    "\n",
    "ax2 = ax1.twinx()  # this is the important function\n",
    "ax2.plot(x, y2, 'r')\n",
    "ax2.set_ylabel('PG_return')\n",
    "ax2.set_xlabel('time')\n",
    "ax2.legend()\n",
    "\n",
    "plt.plot()"
   ]
  }
 ],
 "metadata": {
  "colab": {
   "collapsed_sections": [],
   "name": "algothon.ipynb",
   "provenance": []
  },
  "kernelspec": {
   "display_name": "Python 3",
   "language": "python",
   "name": "python3"
  },
  "language_info": {
   "codemirror_mode": {
    "name": "ipython",
    "version": 3
   },
   "file_extension": ".py",
   "mimetype": "text/x-python",
   "name": "python",
   "nbconvert_exporter": "python",
   "pygments_lexer": "ipython3",
   "version": "3.7.4"
  }
 },
 "nbformat": 4,
 "nbformat_minor": 1
}
