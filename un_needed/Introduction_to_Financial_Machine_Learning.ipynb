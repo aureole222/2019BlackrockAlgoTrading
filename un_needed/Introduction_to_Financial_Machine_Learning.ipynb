{
 "cells": [
  {
   "cell_type": "markdown",
   "metadata": {
    "colab_type": "text",
    "id": "SQ4OKfD8KEsn"
   },
   "source": [
    "<img src=\"http://2019.algothon.org/img/icon.png\" width=\"200\">\n",
    "\n",
    "## [Algothon.org](http://algothon.org/)\n",
    "\n",
    "# Algothon 2019 - Introduction to Financial Machine Learning"
   ]
  },
  {
   "cell_type": "markdown",
   "metadata": {
    "colab_type": "text",
    "id": "FxeSaE4QKAtu"
   },
   "source": [
    "## Topics that will be covered in this workshop:\n",
    "\n",
    "### Intro to Quant Finance:\n",
    "\n",
    "- What is a financial time series?\n",
    "- What is a momentum strategy?\n",
    "- Key Metrics & Managing RIsk\n",
    "\n",
    "### Intro to ML:\n",
    "\n",
    "- How do we optimise?\n",
    "- What types of models are there?\n",
    "- How do we split our data?\n",
    "\n",
    "\n",
    "---\n",
    "\n"
   ]
  },
  {
   "cell_type": "markdown",
   "metadata": {
    "colab_type": "text",
    "id": "3_pUf-91weAn"
   },
   "source": [
    "A great paper on the subject which I high recommend diving into: https://arxiv.org/abs/1904.04912"
   ]
  },
  {
   "cell_type": "code",
   "execution_count": 1,
   "metadata": {
    "colab": {
     "base_uri": "https://localhost:8080/",
     "height": 347
    },
    "colab_type": "code",
    "id": "Z55CNWNaP33N",
    "outputId": "8bcb6c41-fd7c-48cf-a707-f671bc801999"
   },
   "outputs": [
    {
     "name": "stdout",
     "output_type": "stream",
     "text": [
      "Requirement already satisfied: quandl in c:\\users\\joe\\desktop\\github\\study_notes\\env\\lib\\site-packages (3.4.8)\n",
      "Requirement already satisfied: python-dateutil in c:\\users\\joe\\desktop\\github\\study_notes\\env\\lib\\site-packages (from quandl) (2.8.0)\n",
      "Requirement already satisfied: requests>=2.7.0 in c:\\users\\joe\\desktop\\github\\study_notes\\env\\lib\\site-packages (from quandl) (2.22.0)\n",
      "Requirement already satisfied: ndg-httpsclient in c:\\users\\joe\\desktop\\github\\study_notes\\env\\lib\\site-packages (from quandl) (0.5.1)\n",
      "Requirement already satisfied: numpy>=1.8 in c:\\users\\joe\\desktop\\github\\study_notes\\env\\lib\\site-packages (from quandl) (1.16.4)\n",
      "Requirement already satisfied: more-itertools<=5.0.0 in c:\\users\\joe\\desktop\\github\\study_notes\\env\\lib\\site-packages (from quandl) (5.0.0)\n",
      "Requirement already satisfied: pyOpenSSL in c:\\users\\joe\\desktop\\github\\study_notes\\env\\lib\\site-packages (from quandl) (19.0.0)\n",
      "Requirement already satisfied: pyasn1 in c:\\users\\joe\\desktop\\github\\study_notes\\env\\lib\\site-packages (from quandl) (0.4.7)\n",
      "Requirement already satisfied: pandas>=0.14 in c:\\users\\joe\\desktop\\github\\study_notes\\env\\lib\\site-packages (from quandl) (0.24.2)\n",
      "Requirement already satisfied: inflection>=0.3.1 in c:\\users\\joe\\desktop\\github\\study_notes\\env\\lib\\site-packages (from quandl) (0.3.1)\n",
      "Requirement already satisfied: six in c:\\users\\joe\\desktop\\github\\study_notes\\env\\lib\\site-packages (from quandl) (1.12.0)\n",
      "Requirement already satisfied: certifi>=2017.4.17 in c:\\users\\joe\\desktop\\github\\study_notes\\env\\lib\\site-packages (from requests>=2.7.0->quandl) (2019.9.11)\n",
      "Requirement already satisfied: idna<2.9,>=2.5 in c:\\users\\joe\\desktop\\github\\study_notes\\env\\lib\\site-packages (from requests>=2.7.0->quandl) (2.8)\n",
      "Requirement already satisfied: chardet<3.1.0,>=3.0.2 in c:\\users\\joe\\desktop\\github\\study_notes\\env\\lib\\site-packages (from requests>=2.7.0->quandl) (3.0.4)\n",
      "Requirement already satisfied: urllib3!=1.25.0,!=1.25.1,<1.26,>=1.21.1 in c:\\users\\joe\\desktop\\github\\study_notes\\env\\lib\\site-packages (from requests>=2.7.0->quandl) (1.25.6)\n",
      "Requirement already satisfied: cryptography>=2.3 in c:\\users\\joe\\desktop\\github\\study_notes\\env\\lib\\site-packages (from pyOpenSSL->quandl) (2.8)\n",
      "Requirement already satisfied: pytz>=2011k in c:\\users\\joe\\desktop\\github\\study_notes\\env\\lib\\site-packages (from pandas>=0.14->quandl) (2019.1)\n",
      "Requirement already satisfied: cffi!=1.11.3,>=1.8 in c:\\users\\joe\\desktop\\github\\study_notes\\env\\lib\\site-packages (from cryptography>=2.3->pyOpenSSL->quandl) (1.13.0)\n",
      "Requirement already satisfied: pycparser in c:\\users\\joe\\desktop\\github\\study_notes\\env\\lib\\site-packages (from cffi!=1.11.3,>=1.8->cryptography>=2.3->pyOpenSSL->quandl) (2.19)\n"
     ]
    },
    {
     "name": "stderr",
     "output_type": "stream",
     "text": [
      "You are using pip version 19.0.3, however version 19.3.1 is available.\n",
      "You should consider upgrading via the 'python -m pip install --upgrade pip' command.\n"
     ]
    }
   ],
   "source": [
    "!pip install quandl"
   ]
  },
  {
   "cell_type": "code",
   "execution_count": 2,
   "metadata": {
    "colab": {},
    "colab_type": "code",
    "id": "GjTwlQtZJ-Iw"
   },
   "outputs": [],
   "source": [
    "import quandl\n",
    "quandl.ApiConfig.api_key = \"51zhMtVAyF2VgGsWqxzD\" # keep this private"
   ]
  },
  {
   "cell_type": "code",
   "execution_count": 3,
   "metadata": {
    "colab": {},
    "colab_type": "code",
    "id": "k5GcI2OCizp1"
   },
   "outputs": [],
   "source": [
    "import pandas as pd\n",
    "import numpy as np\n",
    "import matplotlib.pyplot as plt\n",
    "\n",
    "figsize = (15,8)"
   ]
  },
  {
   "cell_type": "markdown",
   "metadata": {
    "colab_type": "text",
    "id": "mpcMh87RDKLU"
   },
   "source": [
    "# What is a financial time series?\n",
    "\n"
   ]
  },
  {
   "cell_type": "markdown",
   "metadata": {
    "colab_type": "text",
    "id": "FF7ryOXTFwxc"
   },
   "source": [
    "## Close Price for BLK\n",
    "\n",
    "![BlackRock](http://2019.algothon.org/img/blackrock-logo-sitemap.svg)"
   ]
  },
  {
   "cell_type": "code",
   "execution_count": 4,
   "metadata": {
    "colab": {
     "base_uri": "https://localhost:8080/",
     "height": 139
    },
    "colab_type": "code",
    "id": "ZG6DLl1WQVh4",
    "outputId": "106c389f-779a-47ae-cdfc-ccf96d3f60f6"
   },
   "outputs": [
    {
     "data": {
      "text/plain": [
       "Date\n",
       "2015-10-15    325.63\n",
       "2015-10-16    330.83\n",
       "2015-10-19    327.88\n",
       "2015-10-20    327.15\n",
       "2015-10-21    321.98\n",
       "Name: Close, dtype: float64"
      ]
     },
     "execution_count": 4,
     "metadata": {},
     "output_type": "execute_result"
    }
   ],
   "source": [
    "start = '2015-10-15'\n",
    "end = '2018-10-15'\n",
    "\n",
    "oos_start = end\n",
    "oos_end = '2019-10-15'\n",
    "\n",
    "data = quandl.get('EOD/BLK', start_date=start, end_date=end)\n",
    "close = data['Close']\n",
    "close.head()"
   ]
  },
  {
   "cell_type": "code",
   "execution_count": null,
   "metadata": {
    "colab": {
     "base_uri": "https://localhost:8080/",
     "height": 139
    },
    "colab_type": "code",
    "id": "xBXa-ahz3vGr",
    "outputId": "3c7117da-1219-4cd3-e874-16b7ce688b0b"
   },
   "outputs": [],
   "source": [
    "close.tail()"
   ]
  },
  {
   "cell_type": "code",
   "execution_count": null,
   "metadata": {
    "colab": {
     "base_uri": "https://localhost:8080/",
     "height": 507
    },
    "colab_type": "code",
    "id": "gH5nslBPDsHG",
    "outputId": "1ed263de-8ca2-46c3-bb45-1ab74ca1b16a"
   },
   "outputs": [],
   "source": [
    "plt.figure(figsize=figsize)\n",
    "plt.title(f'BLK close from {start} to {end}')\n",
    "plt.ylabel('Security close price / $')\n",
    "close.plot(label='Raw')"
   ]
  },
  {
   "cell_type": "markdown",
   "metadata": {
    "colab_type": "text",
    "id": "Ws21voj1FuL-"
   },
   "source": [
    "## Log Returns"
   ]
  },
  {
   "cell_type": "code",
   "execution_count": null,
   "metadata": {
    "colab": {
     "base_uri": "https://localhost:8080/",
     "height": 139
    },
    "colab_type": "code",
    "id": "CpJLNyN4ERgq",
    "outputId": "748ce8b5-abbc-4645-ff6f-ab7db0d96bcc"
   },
   "outputs": [],
   "source": [
    "log_rets = np.log(close) - np.log(close.shift(1))\n",
    "log_rets.head()"
   ]
  },
  {
   "cell_type": "code",
   "execution_count": null,
   "metadata": {
    "colab": {
     "base_uri": "https://localhost:8080/",
     "height": 507
    },
    "colab_type": "code",
    "id": "FB3GgZgoEIyz",
    "outputId": "994b22ac-4ab5-4038-c85a-9788683ac489"
   },
   "outputs": [],
   "source": [
    "plt.figure(figsize=figsize)\n",
    "plt.title(f'BLK log returns from {start} to {end}')\n",
    "plt.ylabel('Security log returns / log($)')\n",
    "log_rets.plot(label='log rets')"
   ]
  },
  {
   "cell_type": "markdown",
   "metadata": {
    "colab_type": "text",
    "id": "2wnfwYYSGKW_"
   },
   "source": [
    "## Volatility"
   ]
  },
  {
   "cell_type": "code",
   "execution_count": null,
   "metadata": {
    "colab": {
     "base_uri": "https://localhost:8080/",
     "height": 139
    },
    "colab_type": "code",
    "id": "rfeX44w5FtkY",
    "outputId": "dce16178-638f-4eec-f034-5801e67af94a"
   },
   "outputs": [],
   "source": [
    "volatility = log_rets.shift(1).ewm(span=252).std()\n",
    "volatility.head()"
   ]
  },
  {
   "cell_type": "code",
   "execution_count": null,
   "metadata": {
    "colab": {
     "base_uri": "https://localhost:8080/",
     "height": 507
    },
    "colab_type": "code",
    "id": "QsDt3QewGcQl",
    "outputId": "6b129bed-a2c6-442d-f6ab-a425aece1855"
   },
   "outputs": [],
   "source": [
    "plt.figure(figsize=figsize)\n",
    "plt.title(f'BLK volatility from {start} to {end}')\n",
    "plt.ylabel('Security volatility / log($)')\n",
    "volatility.plot(label='vol')"
   ]
  },
  {
   "cell_type": "markdown",
   "metadata": {
    "colab_type": "text",
    "id": "Pomg6D0SGvt6"
   },
   "source": [
    "## Volatility Scaled Returns\n"
   ]
  },
  {
   "cell_type": "markdown",
   "metadata": {
    "colab_type": "text",
    "id": "XGTN_Gj9Mc9y"
   },
   "source": [
    "https://youtu.be/ZJXsoZprTn8"
   ]
  },
  {
   "cell_type": "code",
   "execution_count": null,
   "metadata": {
    "colab": {
     "base_uri": "https://localhost:8080/",
     "height": 139
    },
    "colab_type": "code",
    "id": "2aoICzOoGu9T",
    "outputId": "ab2d91f5-9f8b-4ca6-cbb2-575c27898ce7"
   },
   "outputs": [],
   "source": [
    "rets = log_rets / volatility\n",
    "rets.head()"
   ]
  },
  {
   "cell_type": "code",
   "execution_count": null,
   "metadata": {
    "colab": {
     "base_uri": "https://localhost:8080/",
     "height": 507
    },
    "colab_type": "code",
    "id": "dU-ndkDvGvQj",
    "outputId": "5d3cec3a-0f4a-4493-e2aa-6bb5876528cd"
   },
   "outputs": [],
   "source": [
    "plt.figure(figsize=figsize)\n",
    "plt.title(f'BLK Vol Normalised returns from {start} to {end}')\n",
    "plt.ylabel('Vol Scaled Log Rets')\n",
    "rets.plot(label='vol scaled rets')"
   ]
  },
  {
   "cell_type": "markdown",
   "metadata": {
    "colab_type": "text",
    "id": "0c7J_QqtNA7h"
   },
   "source": [
    "# What is a momentum Strategy?"
   ]
  },
  {
   "cell_type": "markdown",
   "metadata": {
    "colab_type": "text",
    "id": "hR0dBlsGPYFF"
   },
   "source": [
    "## Signal\n"
   ]
  },
  {
   "cell_type": "code",
   "execution_count": null,
   "metadata": {
    "colab": {},
    "colab_type": "code",
    "id": "zbfHUSj5Y2_p"
   },
   "outputs": [],
   "source": [
    "slow_period = 300\n",
    "fast_period = 150"
   ]
  },
  {
   "cell_type": "code",
   "execution_count": null,
   "metadata": {
    "colab": {
     "base_uri": "https://localhost:8080/",
     "height": 507
    },
    "colab_type": "code",
    "id": "ulHGuvo_ibzg",
    "outputId": "04ba0e1a-858c-42cf-c4b4-5abf3671bd75"
   },
   "outputs": [],
   "source": [
    "slow_rets = rets.ewm(span=slow_period).mean()\n",
    "fast_rets = rets.ewm(span=fast_period).mean()\n",
    "\n",
    "plt.figure(figsize=figsize)\n",
    "plt.title(f'BLK log returns from {start} to {end}')\n",
    "slow_rets.plot(label=f'Slow: {slow_period}')\n",
    "fast_rets.plot(label=f'Fast: {fast_period}')\n",
    "\n",
    "plt.legend()"
   ]
  },
  {
   "cell_type": "code",
   "execution_count": null,
   "metadata": {
    "colab": {
     "base_uri": "https://localhost:8080/",
     "height": 139
    },
    "colab_type": "code",
    "id": "9TrbcAyZLhw_",
    "outputId": "026cd62d-a9d3-4b8b-bbaf-b0a4865a3981"
   },
   "outputs": [],
   "source": [
    "diff = fast_rets - slow_rets\n",
    "diff.head()"
   ]
  },
  {
   "cell_type": "code",
   "execution_count": null,
   "metadata": {
    "colab": {
     "base_uri": "https://localhost:8080/",
     "height": 507
    },
    "colab_type": "code",
    "id": "Bekb09gJkjt9",
    "outputId": "34a3ea6e-6878-49d0-81e1-b2c1aabb10cb"
   },
   "outputs": [],
   "source": [
    "plt.figure(figsize=figsize)\n",
    "plt.title('Raw Trading Signal')\n",
    "diff.plot(label='raw signal')"
   ]
  },
  {
   "cell_type": "code",
   "execution_count": null,
   "metadata": {
    "colab": {},
    "colab_type": "code",
    "id": "Pzi2B7Ff3R8J"
   },
   "outputs": [],
   "source": [
    "raw_macd = diff"
   ]
  },
  {
   "cell_type": "code",
   "execution_count": null,
   "metadata": {
    "colab": {},
    "colab_type": "code",
    "id": "0YDE3lUoJm4F"
   },
   "outputs": [],
   "source": [
    "exp_diff = np.sqrt(np.square(diff).ewm(span=60).mean())\n",
    "rms_macd = diff / exp_diff"
   ]
  },
  {
   "cell_type": "code",
   "execution_count": null,
   "metadata": {
    "colab": {},
    "colab_type": "code",
    "id": "azXOv71KKhsf"
   },
   "outputs": [],
   "source": [
    "std_diff = diff.ewm(span=63).std()\n",
    "std_macd = diff / std_diff"
   ]
  },
  {
   "cell_type": "code",
   "execution_count": null,
   "metadata": {
    "colab": {
     "base_uri": "https://localhost:8080/",
     "height": 507
    },
    "colab_type": "code",
    "id": "UHOFn6i7lBj5",
    "outputId": "41f2400f-6802-40c7-cb84-05217efde9bb"
   },
   "outputs": [],
   "source": [
    "plt.figure(figsize=figsize)\n",
    "plt.title('Trading Signal')\n",
    "raw_macd.plot(label='raw signal')\n",
    "rms_macd.plot(label='rms signal')\n",
    "std_macd.plot(label='std signal')\n",
    "plt.legend()"
   ]
  },
  {
   "cell_type": "markdown",
   "metadata": {
    "colab_type": "text",
    "id": "KFyRGP8qPUfC"
   },
   "source": [
    "## Position Functions\n",
    "\n",
    "A position function is a function between -1 and 1 which indicates how to place the trade. Value of 1 is long, value of -1 is short. This can either be an absolute value (-1, 0, 1) or it can be continuous relating to how long or how short your position should be."
   ]
  },
  {
   "cell_type": "code",
   "execution_count": null,
   "metadata": {
    "colab": {},
    "colab_type": "code",
    "id": "PLtTSsNsCbqU"
   },
   "outputs": [],
   "source": [
    "def moskowitz_pos_func(x):\n",
    "  # Moskowitz et al. 2012\n",
    "  return x * np.exp( - (x**2)/4) /0.89\n",
    "\n",
    "def tanh_pos_func(x):\n",
    "  return np.tanh(x)\n",
    "\n",
    "def abs_pos_func(x):\n",
    "  return np.sign(x)"
   ]
  },
  {
   "cell_type": "code",
   "execution_count": null,
   "metadata": {
    "colab": {
     "base_uri": "https://localhost:8080/",
     "height": 313
    },
    "colab_type": "code",
    "id": "e4u_jM2RPqz8",
    "outputId": "1333791b-9a38-444f-cdbf-4d712c5af1be"
   },
   "outputs": [],
   "source": [
    "x = np.linspace(-10, 10, 100)\n",
    "y_moskowitz = moskowitz_pos_func(x)\n",
    "y_tanh = tanh_pos_func(x)\n",
    "y_abs = abs_pos_func(x)\n",
    "\n",
    "plt.title(\"Moskowitz Position Function\")\n",
    "plt.ylabel(\"Position\")\n",
    "plt.xlabel(\"Signal\")\n",
    "plt.scatter(x,y_moskowitz, label='moskowitz')\n",
    "plt.scatter(x,y_tanh, label='tanh')\n",
    "plt.scatter(x,y_abs, label='abs')\n",
    "plt.legend()"
   ]
  },
  {
   "cell_type": "code",
   "execution_count": null,
   "metadata": {
    "colab": {},
    "colab_type": "code",
    "id": "-kWCcrNILV4u"
   },
   "outputs": [],
   "source": [
    "moskowitz_raw_pos = moskowitz_pos_func(raw_macd)\n",
    "moskowitz_rms_pos = moskowitz_pos_func(rms_macd)\n",
    "moskowitz_std_pos = moskowitz_pos_func(std_macd)\n",
    "\n",
    "tanh_raw_pos = tanh_pos_func(raw_macd)\n",
    "tanh_rms_pos = tanh_pos_func(rms_macd)\n",
    "tanh_std_pos = tanh_pos_func(std_macd)\n",
    "\n",
    "abs_raw_pos = abs_pos_func(raw_macd)\n",
    "abs_rms_pos = abs_pos_func(rms_macd)\n",
    "abs_std_pos = abs_pos_func(std_macd)"
   ]
  },
  {
   "cell_type": "code",
   "execution_count": null,
   "metadata": {
    "colab": {
     "base_uri": "https://localhost:8080/",
     "height": 503
    },
    "colab_type": "code",
    "id": "p-TX6nsXNXvT",
    "outputId": "80615981-c1af-46f7-f1c6-2264940690f9"
   },
   "outputs": [],
   "source": [
    "plt.figure(figsize=figsize)\n",
    "plt.plot(moskowitz_raw_pos, label='moskowitz raw')\n",
    "plt.plot(moskowitz_rms_pos, label='moskowitz rms')\n",
    "plt.plot(moskowitz_std_pos, label='moskowitz std')\n",
    "plt.plot(tanh_raw_pos, label='tanh raw')\n",
    "plt.plot(tanh_rms_pos, label='tanh rms')\n",
    "plt.plot(tanh_std_pos, label='tanh std')\n",
    "plt.plot(abs_raw_pos, label='tanh raw')\n",
    "plt.plot(abs_rms_pos, label='tanh rms')\n",
    "plt.plot(abs_std_pos, label='tanh std')\n",
    "\n",
    "plt.legend()"
   ]
  },
  {
   "cell_type": "markdown",
   "metadata": {
    "colab_type": "text",
    "id": "IlYXftpRPc6L"
   },
   "source": [
    "## Performance"
   ]
  },
  {
   "cell_type": "code",
   "execution_count": null,
   "metadata": {
    "colab": {},
    "colab_type": "code",
    "id": "lfZnYiqHL8Bm"
   },
   "outputs": [],
   "source": [
    "target_rets = rets.shift(-1)\n",
    "\n",
    "moskowitz_raw_perf = target_rets * moskowitz_raw_pos\n",
    "moskowitz_rms_perf = target_rets * moskowitz_rms_pos\n",
    "moskowitz_std_perf = target_rets * moskowitz_std_pos\n",
    "tanh_raw_perf = target_rets * tanh_raw_pos\n",
    "tanh_rms_perf = target_rets * tanh_rms_pos\n",
    "tanh_std_perf = target_rets * tanh_std_pos\n",
    "abs_raw_perf = target_rets * abs_raw_pos\n",
    "abs_rms_perf = target_rets * abs_rms_pos\n",
    "abs_std_perf = target_rets * abs_std_pos"
   ]
  },
  {
   "cell_type": "code",
   "execution_count": null,
   "metadata": {
    "colab": {
     "base_uri": "https://localhost:8080/",
     "height": 531
    },
    "colab_type": "code",
    "id": "UeLs1hSlMmvn",
    "outputId": "fe22c1b1-9e6a-4290-fd6c-209dd81136fc"
   },
   "outputs": [],
   "source": [
    "plt.figure(figsize=figsize)\n",
    "plt.plot(np.cumsum(moskowitz_raw_perf), label='moskowitz raw')\n",
    "plt.plot(np.cumsum(moskowitz_rms_perf), label='moskowitz rms')\n",
    "plt.plot(np.cumsum(moskowitz_std_perf), label='moskowitz std')\n",
    "plt.plot(np.cumsum(tanh_raw_perf), label='tanh raw')\n",
    "plt.plot(np.cumsum(tanh_rms_perf), label='tanh rms')\n",
    "plt.plot(np.cumsum(tanh_std_perf), label='tanh std')\n",
    "plt.plot(np.cumsum(abs_raw_perf), label='abs raw')\n",
    "plt.plot(np.cumsum(abs_rms_perf), label='abs rms')\n",
    "plt.plot(np.cumsum(abs_std_perf), label='abs std')\n",
    "\n",
    "\n",
    "plt.title(\"Expected Return for different strategies\")\n",
    "plt.ylabel(\"Expected Return / log($)\")\n",
    "plt.xlabel(\"Date\")\n",
    "plt.grid(True)\n",
    "plt.legend()"
   ]
  },
  {
   "cell_type": "markdown",
   "metadata": {
    "colab_type": "text",
    "id": "IvNMUERK89D1"
   },
   "source": [
    "## Time Leakage\n",
    "\n",
    "What happens if during our backtest we leak future data into the past?\n",
    "\n",
    "If your results look too good to be true; this is the first thing to check. Time leakage can occur in subtle ways so take care whilst building and backtesting your models."
   ]
  },
  {
   "cell_type": "code",
   "execution_count": null,
   "metadata": {
    "colab": {},
    "colab_type": "code",
    "id": "rOGHwZ7-87_Y"
   },
   "outputs": [],
   "source": [
    "target_rets = rets.shift(1)\n",
    "\n",
    "moskowitz_raw_perf = target_rets * moskowitz_raw_pos\n",
    "moskowitz_rms_perf = target_rets * moskowitz_rms_pos\n",
    "moskowitz_std_perf = target_rets * moskowitz_std_pos\n",
    "tanh_raw_perf = target_rets * tanh_raw_pos\n",
    "tanh_rms_perf = target_rets * tanh_rms_pos\n",
    "tanh_std_perf = target_rets * tanh_std_pos"
   ]
  },
  {
   "cell_type": "code",
   "execution_count": null,
   "metadata": {
    "colab": {},
    "colab_type": "code",
    "id": "85fIbtNF9IhE"
   },
   "outputs": [],
   "source": [
    "plt.figure(figsize=figsize)\n",
    "plt.plot(np.cumsum(moskowitz_raw_perf), label='moskowitz raw')\n",
    "plt.plot(np.cumsum(moskowitz_rms_perf), label='moskowitz rms')\n",
    "plt.plot(np.cumsum(moskowitz_std_perf), label='moskowitz std')\n",
    "plt.plot(np.cumsum(tanh_raw_perf), label='tanh raw')\n",
    "plt.plot(np.cumsum(tanh_rms_perf), label='tanh rms')\n",
    "plt.plot(np.cumsum(tanh_std_perf), label='tanh std')\n",
    "\n",
    "plt.title(\"(Time leakage) Expected Return for different strategies\")\n",
    "plt.ylabel(\"Expected Return / log($)\")\n",
    "plt.xlabel(\"Date\")\n",
    "plt.grid(True)\n",
    "plt.legend()"
   ]
  },
  {
   "cell_type": "markdown",
   "metadata": {
    "colab_type": "text",
    "id": "gMoR-BlFt-UJ"
   },
   "source": [
    "\n",
    "\n",
    "---"
   ]
  },
  {
   "cell_type": "markdown",
   "metadata": {
    "colab_type": "text",
    "id": "fuP1KEAJLjg3"
   },
   "source": [
    "# An ensemble of signals"
   ]
  },
  {
   "cell_type": "code",
   "execution_count": null,
   "metadata": {
    "colab": {},
    "colab_type": "code",
    "id": "BAsSDrlOQ1Zo"
   },
   "outputs": [],
   "source": [
    "fasts = [30, 90, 150]\n",
    "slows = [90, 150, 300]\n",
    "warm_up_period = 252\n",
    "signals = None"
   ]
  },
  {
   "cell_type": "code",
   "execution_count": null,
   "metadata": {
    "colab": {},
    "colab_type": "code",
    "id": "ZNDJtBEfqHcV"
   },
   "outputs": [],
   "source": [
    "def get_trade_signal(log_rets, slow, fast):\n",
    "  ## get slow and fast means\n",
    "  slow_rets = rets.ewm(span=slow).mean()\n",
    "  fast_rets = rets.ewm(span=fast).mean()\n",
    "  \n",
    "  ## calculate signal\n",
    "  diff = fast_rets - slow_rets \n",
    "  \n",
    "  ## normalise signal by rms\n",
    "  rms = np.sqrt(np.square(diff).ewm(span=60).mean())\n",
    "  normed_diff = diff / rms\n",
    "  return normed_diff\n",
    "\n",
    "def moskowitz_pos_func(x):\n",
    "  # Moskowitz et al. 2012\n",
    "  return x * np.exp( - (x**2)/4) /0.89"
   ]
  },
  {
   "cell_type": "code",
   "execution_count": null,
   "metadata": {
    "colab": {},
    "colab_type": "code",
    "id": "TLJjWcjws4hd"
   },
   "outputs": [],
   "source": [
    "for slow, fast in zip(slows, fasts):\n",
    "  signal = get_trade_signal(rets, slow, fast)\n",
    "  if signals is None:\n",
    "    signals = pd.DataFrame(data = {f'{slow},{fast}' : signal})\n",
    "  else:\n",
    "    signals[f'{slow},{fast}'] = signal\n",
    "    \n",
    "macd_signal = signals.mean(axis=1)\n",
    "macd_signal.head()"
   ]
  },
  {
   "cell_type": "code",
   "execution_count": null,
   "metadata": {
    "colab": {},
    "colab_type": "code",
    "id": "YEUAOBd_uvL3"
   },
   "outputs": [],
   "source": [
    "plt.figure(figsize=figsize)\n",
    "plt.plot(signals)\n",
    "plt.legend()"
   ]
  },
  {
   "cell_type": "code",
   "execution_count": null,
   "metadata": {
    "colab": {},
    "colab_type": "code",
    "id": "6d6QUnmrHXp1"
   },
   "outputs": [],
   "source": [
    "plt.figure(figsize=figsize)\n",
    "plt.plot(macd_signal)"
   ]
  },
  {
   "cell_type": "code",
   "execution_count": null,
   "metadata": {
    "colab": {},
    "colab_type": "code",
    "id": "VuMb6B7xC5C9"
   },
   "outputs": [],
   "source": [
    "macd_pos = moskowitz_pos_func(macd_signal)\n",
    "macd_pos.head()"
   ]
  },
  {
   "cell_type": "code",
   "execution_count": null,
   "metadata": {
    "colab": {},
    "colab_type": "code",
    "id": "YLIvh3TTC7tF"
   },
   "outputs": [],
   "source": [
    "plt.figure(figsize=figsize)\n",
    "plt.plot(macd_pos)"
   ]
  },
  {
   "cell_type": "code",
   "execution_count": null,
   "metadata": {
    "colab": {},
    "colab_type": "code",
    "id": "fJhst9omIVV8"
   },
   "outputs": [],
   "source": [
    "plt.figure(figsize=figsize)\n",
    "plt.plot(close)"
   ]
  },
  {
   "cell_type": "code",
   "execution_count": null,
   "metadata": {
    "colab": {},
    "colab_type": "code",
    "id": "DUhtRF6WIpDj"
   },
   "outputs": [],
   "source": [
    "target_rets = rets.shift(-1)\n",
    "expected_return = target_rets * macd_pos\n",
    "expected_return.head()"
   ]
  },
  {
   "cell_type": "code",
   "execution_count": null,
   "metadata": {
    "colab": {},
    "colab_type": "code",
    "id": "7RKIbZFOIisw"
   },
   "outputs": [],
   "source": [
    "plt.figure(figsize=figsize)\n",
    "plt.plot(expected_return, label=\"Expected return\")\n",
    "plt.plot(expected_return.rolling(20).mean(), label=\"Expected return, 1 Month MA\")\n",
    "plt.xlabel(\"Date\")\n",
    "plt.ylabel(\"Expected Return / log($)\")\n",
    "plt.legend()\n",
    "plt.grid(True)"
   ]
  },
  {
   "cell_type": "code",
   "execution_count": null,
   "metadata": {
    "colab": {},
    "colab_type": "code",
    "id": "CKBUOokYI6Rv"
   },
   "outputs": [],
   "source": [
    "plt.figure(figsize=figsize)\n",
    "plt.title('Expected Return')\n",
    "plt.plot(np.cumsum(expected_return))\n",
    "plt.grid(True)\n",
    "plt.xlabel(\"Date\")\n",
    "plt.ylabel(\"Cum Expected Return / log($)\")"
   ]
  },
  {
   "cell_type": "markdown",
   "metadata": {
    "colab_type": "text",
    "id": "TUcpgdRnK5UD"
   },
   "source": [
    "## Annualised Rolling Sharpe"
   ]
  },
  {
   "cell_type": "code",
   "execution_count": null,
   "metadata": {
    "colab": {},
    "colab_type": "code",
    "id": "clGqZ3cN2KWr"
   },
   "outputs": [],
   "source": [
    "rfr = 0.02 #risk free rate"
   ]
  },
  {
   "cell_type": "code",
   "execution_count": null,
   "metadata": {
    "colab": {},
    "colab_type": "code",
    "id": "u1dJ-5UxtSwb"
   },
   "outputs": [],
   "source": [
    "annualised_sharpe = np.sqrt(252) * (expected_return.rolling(252).mean() - rfr) / expected_return.rolling(252).std()\n",
    "annualised_sharpe.head()"
   ]
  },
  {
   "cell_type": "code",
   "execution_count": null,
   "metadata": {
    "colab": {},
    "colab_type": "code",
    "id": "BIzaZMuusgLT"
   },
   "outputs": [],
   "source": [
    "annualised_sharpe.tail()"
   ]
  },
  {
   "cell_type": "code",
   "execution_count": null,
   "metadata": {
    "colab": {},
    "colab_type": "code",
    "id": "ldxffWHBI_W6"
   },
   "outputs": [],
   "source": [
    "plt.figure(figsize=figsize)\n",
    "plt.title(\"Rolling Annualised Sharpe\")\n",
    "plt.plot(annualised_sharpe)\n",
    "plt.grid(True)\n",
    "plt.xlabel(\"Date\")\n",
    "plt.ylabel(\"Annualised Sharpe\")"
   ]
  },
  {
   "cell_type": "markdown",
   "metadata": {
    "colab_type": "text",
    "id": "SjPppWZWydP6"
   },
   "source": [
    "## Transaction Cost Analysis"
   ]
  },
  {
   "cell_type": "code",
   "execution_count": null,
   "metadata": {
    "colab": {},
    "colab_type": "code",
    "id": "r9ZWiyIHUoAf"
   },
   "outputs": [],
   "source": [
    "turnover = np.abs(macd_pos.diff())\n",
    "turnover.head()"
   ]
  },
  {
   "cell_type": "code",
   "execution_count": null,
   "metadata": {
    "colab": {},
    "colab_type": "code",
    "id": "Pza_0kHj3BKk"
   },
   "outputs": [],
   "source": [
    "plt.figure(figsize=figsize)\n",
    "plt.title(\"Strategy Turnover\")\n",
    "turnover.plot()"
   ]
  },
  {
   "cell_type": "code",
   "execution_count": null,
   "metadata": {
    "colab": {},
    "colab_type": "code",
    "id": "zCVJpVTFFVPL"
   },
   "outputs": [],
   "source": [
    "def get_perf(expected_rets, turnover, c):\n",
    "  perf = expected_return - turnover * c\n",
    "  return perf"
   ]
  },
  {
   "cell_type": "code",
   "execution_count": null,
   "metadata": {
    "colab": {},
    "colab_type": "code",
    "id": "ntW97y2zmlZF"
   },
   "outputs": [],
   "source": [
    "costs = [1, 0.5, 1e-1, 1e-2, 1e-3]"
   ]
  },
  {
   "cell_type": "code",
   "execution_count": null,
   "metadata": {
    "colab": {},
    "colab_type": "code",
    "id": "ENnXFHHYmYOM"
   },
   "outputs": [],
   "source": [
    "plt.figure(figsize=figsize)\n",
    "for c in costs:\n",
    "  perf = get_perf(expected_return, turnover, c)\n",
    "  plt.plot(perf.cumsum(), label=c)\n",
    "\n",
    "plt.title(\"Impact of Transaction Cost on Strategy Performance\")\n",
    "plt.legend()\n",
    "plt.grid(True)\n",
    "plt.xlabel(\"Date\")\n",
    "plt.ylabel(\"Expected return / log($)\")"
   ]
  },
  {
   "cell_type": "code",
   "execution_count": null,
   "metadata": {
    "colab": {},
    "colab_type": "code",
    "id": "9qrUhqH1nZFR"
   },
   "outputs": [],
   "source": [
    "plt.figure(figsize=figsize)\n",
    "for c in costs:\n",
    "  perf = get_perf(expected_return, turnover, c)\n",
    "  annualised_sharpe = np.sqrt(252) * (perf.rolling(252).mean() - rfr) / perf.rolling(252).std()\n",
    "  plt.plot(annualised_sharpe, label=c)\n",
    "\n",
    "plt.title(\"Rolling Annualised Sharpe Post T-Cost\")\n",
    "plt.legend()\n",
    "plt.grid(True)\n",
    "plt.xlabel(\"Date\")\n",
    "plt.ylabel(\"Sharpe\")"
   ]
  },
  {
   "cell_type": "markdown",
   "metadata": {
    "colab_type": "text",
    "id": "v7wHIBvrImPD"
   },
   "source": [
    "## Diversification across securities:\n",
    "\n",
    "*Left to the reader:* **Extend the strategy above to include the 6 tickers below (or any others you want to include).**\n",
    "\n",
    "- How does this impact performance?\n",
    "- Why do we do this?"
   ]
  },
  {
   "cell_type": "code",
   "execution_count": null,
   "metadata": {
    "colab": {},
    "colab_type": "code",
    "id": "dkkJsEMtIlSS"
   },
   "outputs": [],
   "source": [
    "tickers = ['EOD/BLK', 'EOD/ZNH', 'EOD/VTV', 'EOD/TCPC', 'EOD/SMPL', 'EOD/SMLF']"
   ]
  },
  {
   "cell_type": "code",
   "execution_count": null,
   "metadata": {
    "colab": {},
    "colab_type": "code",
    "id": "5g_c2SKGsvvi"
   },
   "outputs": [],
   "source": [
    "## your code goes here ##"
   ]
  },
  {
   "cell_type": "markdown",
   "metadata": {
    "colab_type": "text",
    "id": "RvzP3WMVSNi9"
   },
   "source": [
    "# So why use Machine Learning?\n",
    "\n",
    "The aim of machine learning is to partially automate the research process using historical data to find the future's optimal signal and positition.\n",
    "\n",
    "### How can we do this?\n",
    "- Create a strategy to learn the next step ahead and directly learn the position function.\n",
    "\n",
    "### A naive approach:\n",
    "- Model inputs: recent historical data\n",
    "- Predict the next step ahead, the next timestep is the target value for the current timestep.\n",
    "- Use mean squared error to calcuate the error from the prediction to the target value.\n",
    "- Directly learn the position function so use tanh as the activation for the output layer."
   ]
  },
  {
   "cell_type": "code",
   "execution_count": null,
   "metadata": {
    "colab": {},
    "colab_type": "code",
    "id": "g9rwVVPYY9iu"
   },
   "outputs": [],
   "source": [
    "close.head()"
   ]
  },
  {
   "cell_type": "code",
   "execution_count": null,
   "metadata": {
    "colab": {},
    "colab_type": "code",
    "id": "vMFMuf9n3zxT"
   },
   "outputs": [],
   "source": [
    "def get_log_rets(close, shift=1):\n",
    "  assert shift >= 1, f'the shift must be >= than one day, as otherwise the log returns is using data from the future'\n",
    "  log_rets = np.log(close) - np.log(close.shift(shift))\n",
    "  return log_rets\n",
    "  \n",
    "def get_vol_scale_rets(log_rets, shift=1, vol_span=252):\n",
    "  assert shift >= 1, f'the shift must be >= than one day, as otherwise the log returns is using data from the future'\n",
    "  assert vol_span > 7, 'to get a reasonable estimate of volatility you should be using at least 7 data points'\n",
    "  volatility = log_rets.shift(shift).ewm(span=vol_span).std() ## volatility is calcualted by using a rolling estimate of the recent standard deviation.\n",
    "  return log_rets / volatility\n",
    "  \n",
    "def drop_rows(array, drop=60):\n",
    "  array = array[drop:]\n",
    "  return array"
   ]
  },
  {
   "cell_type": "code",
   "execution_count": null,
   "metadata": {
    "colab": {},
    "colab_type": "code",
    "id": "O-SQ9VfM6AMH"
   },
   "outputs": [],
   "source": [
    "def get_windows(time_series, window_size, num_inputs=1, recurrence=False):\n",
    "  time_series_len = len(time_series)\n",
    "  windows = []\n",
    "  for row_idx in range(window_size, time_series_len):\n",
    "    start = row_idx - window_size\n",
    "    end = row_idx\n",
    "    window = time_series[start:end]\n",
    "    windows.append(window)\n",
    "  windows = np.stack(windows)\n",
    "  if recurrence:\n",
    "    windows = np.reshape(windows, (len(windows), window_size, num_inputs))\n",
    "  else:\n",
    "    windows = np.reshape(windows, (len(windows), 1, num_inputs * window_size))\n",
    "  return windows\n",
    "  \n",
    "def get_targets(target_rets, window_size):\n",
    "  assert window_size >= 1, f'window size must be >= to 1.'\n",
    "  targets = rets.shift(window_size * -1)  \n",
    "  targets = targets.to_numpy()\n",
    "  targets = targets[:-window_size]\n",
    "  len_targets = len(targets)\n",
    "  targets = np.reshape(targets, (len_targets, 1))\n",
    "  return targets"
   ]
  },
  {
   "cell_type": "code",
   "execution_count": null,
   "metadata": {
    "colab": {},
    "colab_type": "code",
    "id": "76I8eoW-gY-B"
   },
   "outputs": [],
   "source": [
    "def test_train_split(x, y, split=0.7):\n",
    "  length = len(x)\n",
    "  assert length == len(y), f'length is not an equal value to test: {length} != {len(y)}'\n",
    "  split_idx = int(length*split)\n",
    "  x_train, x_test = x[:split_idx], x[split_idx:]\n",
    "  y_train, y_test = y[:split_idx], y[split_idx:]\n",
    "  return x_train, y_train, x_test, y_test"
   ]
  },
  {
   "cell_type": "code",
   "execution_count": null,
   "metadata": {
    "colab": {},
    "colab_type": "code",
    "id": "MytwxU61dSQJ"
   },
   "outputs": [],
   "source": [
    "log_rets = get_log_rets(close)\n",
    "rets  = get_vol_scale_rets(log_rets)\n",
    "rets = drop_rows(rets, 3)"
   ]
  },
  {
   "cell_type": "code",
   "execution_count": null,
   "metadata": {
    "colab": {},
    "colab_type": "code",
    "id": "n29RJiPZnCGR"
   },
   "outputs": [],
   "source": [
    "window_size = 15\n",
    "recurrence = False\n",
    "\n",
    "windows = get_windows(rets, window_size, recurrence=recurrence)\n",
    "targets = get_targets(rets, window_size)\n",
    "\n",
    "x_train, y_train, x_test, y_test = test_train_split(windows, targets)\n",
    "\n",
    "print(x_train.shape)\n",
    "print(y_train.shape)"
   ]
  },
  {
   "cell_type": "markdown",
   "metadata": {
    "colab_type": "text",
    "id": "7dg_Y_tZixhl"
   },
   "source": [
    "# The \"Machine Learning\""
   ]
  },
  {
   "cell_type": "code",
   "execution_count": null,
   "metadata": {
    "colab": {},
    "colab_type": "code",
    "id": "DR4UvYR5hpk4"
   },
   "outputs": [],
   "source": [
    "import tensorflow as tf"
   ]
  },
  {
   "cell_type": "code",
   "execution_count": null,
   "metadata": {
    "colab": {},
    "colab_type": "code",
    "id": "r3mDZeTwiw42"
   },
   "outputs": [],
   "source": [
    "def get_linear_model(outputs=1, direct_output=False):\n",
    "  model = tf.keras.Sequential()\n",
    "  model.add(tf.keras.layers.Dense(1, activation='tanh'))\n",
    "  act = None if direct_output else 'tanh'\n",
    "  model.add(tf.keras.layers.Dense(outputs, activation=act))  # if no activiation function is used, then a position function should be used\n",
    "  return model\n",
    "\n",
    "def get_mlp_model(outputs=1, layers=[10], direct_output=False):\n",
    "  model = tf.keras.Sequential()\n",
    "  for units in layers:\n",
    "    model.add(tf.keras.layers.Dense(units, activation='tanh'))\n",
    "  act = None if direct_output else 'tanh'\n",
    "  model.add(tf.keras.layers.Dense(outputs, activation=act))  # if no activiation function is used, then a position function should be used\n",
    "  return model\n",
    "\n",
    "def get_lstm_model(outputs=1, units=5, direct_output=False):\n",
    "  model = tf.keras.Sequential()\n",
    "  model.add(tf.keras.layers.LSTM(units))\n",
    "  act = None if direct_output else 'tanh'\n",
    "  model.add(tf.keras.layers.Dense(outputs, activation=act))  # if no activiation function is used, then a position function should be used\n",
    "  return model"
   ]
  },
  {
   "cell_type": "code",
   "execution_count": null,
   "metadata": {
    "colab": {},
    "colab_type": "code",
    "id": "0YbbhVsNCPUh"
   },
   "outputs": [],
   "source": [
    "def sharpe(y_true, y_pred): # position, target returns\n",
    "  ret = y_pred * y_true\n",
    "  expected_ret = tf.reduce_mean(ret)\n",
    "  return - expected_ret / tf.math.reduce_std(ret) "
   ]
  },
  {
   "cell_type": "code",
   "execution_count": null,
   "metadata": {
    "colab": {},
    "colab_type": "code",
    "id": "ORwH-lfwkiy2"
   },
   "outputs": [],
   "source": [
    "def train_model(x_train, y_train, x_test, y_test, \n",
    "                model, loss_func, epochs, \n",
    "                opti=tf.keras.optimizers.Adam()):\n",
    "  model.compile(loss=loss_func, optimizer=opti)\n",
    "  hist = model.fit(x=x_train, y=y_train, batch_size=128, epochs=epochs, verbose=1, validation_data=(x_test, y_test))\n",
    "\n",
    "  fig, ax = plt.subplots(2, 1, figsize=figsize)\n",
    "  ax[0].set_title('loss')\n",
    "  ax[0].plot(hist.history['loss'])\n",
    "  ax[1].set_title('val loss')\n",
    "  ax[1].plot(hist.history['val_loss'])\n",
    "  return model"
   ]
  },
  {
   "cell_type": "markdown",
   "metadata": {
    "colab_type": "text",
    "id": "tSJ20uZezvPR"
   },
   "source": [
    "## Train our models"
   ]
  },
  {
   "cell_type": "code",
   "execution_count": null,
   "metadata": {
    "colab": {},
    "colab_type": "code",
    "id": "ZSkj7JxaEFjP"
   },
   "outputs": [],
   "source": [
    "linear_mse_model = get_linear_model()\n",
    "linear_mse_model = train_model(x_train, y_train, x_test, y_test,\n",
    "                               linear_mse_model, 'mse', 150)"
   ]
  },
  {
   "cell_type": "code",
   "execution_count": null,
   "metadata": {
    "colab": {},
    "colab_type": "code",
    "id": "xHrODK5Qosuy"
   },
   "outputs": [],
   "source": [
    "linear_sharpe_model = get_linear_model()\n",
    "linear_sharpe_model = train_model(x_train, y_train, x_test, y_test, \n",
    "                                  linear_sharpe_model, sharpe, 300,\n",
    "                                  tf.keras.optimizers.Adam(0.00005))"
   ]
  },
  {
   "cell_type": "code",
   "execution_count": null,
   "metadata": {
    "colab": {},
    "colab_type": "code",
    "id": "4qtXUi__EYpe"
   },
   "outputs": [],
   "source": [
    "mlp_mse_model = get_mlp_model(layers=[5, 10])\n",
    "mlp_mse_model = train_model(x_train, y_train, x_test, y_test,\n",
    "                            mlp_mse_model, 'mse', 100)"
   ]
  },
  {
   "cell_type": "code",
   "execution_count": null,
   "metadata": {
    "colab": {},
    "colab_type": "code",
    "id": "D-NepDHDEYxk"
   },
   "outputs": [],
   "source": [
    "mlp_sharpe_model = get_mlp_model(layers=[5, 10])\n",
    "mlp_sharpe_model = train_model(x_train, y_train, x_test, y_test,\n",
    "                               mlp_sharpe_model, sharpe, 300,\n",
    "                               tf.keras.optimizers.Adam(0.00001))"
   ]
  },
  {
   "cell_type": "code",
   "execution_count": null,
   "metadata": {
    "colab": {},
    "colab_type": "code",
    "id": "o5FYJ9V-EZGw"
   },
   "outputs": [],
   "source": [
    "window_size = 60\n",
    "recurrence = True\n",
    "\n",
    "windows = get_windows(rets, window_size, recurrence=recurrence)\n",
    "targets = get_targets(rets, window_size)\n",
    "\n",
    "xr_train, yr_train, xr_test, yr_test = test_train_split(windows, targets)\n",
    "\n",
    "print(xr_train.shape)\n",
    "print(yr_train.shape)"
   ]
  },
  {
   "cell_type": "code",
   "execution_count": null,
   "metadata": {
    "colab": {},
    "colab_type": "code",
    "id": "XtZ8CUvXEZgO"
   },
   "outputs": [],
   "source": [
    "lstm_mse_model = get_lstm_model(units=10)\n",
    "lstm_mse_model = train_model(xr_train, yr_train, xr_test, yr_test,\n",
    "                             lstm_mse_model, 'mse', 300)"
   ]
  },
  {
   "cell_type": "code",
   "execution_count": null,
   "metadata": {
    "colab": {},
    "colab_type": "code",
    "id": "ej8z4AQXEZdr"
   },
   "outputs": [],
   "source": [
    "lstm_sharpe_model = get_lstm_model(units=10)\n",
    "lstm_sharpe_model = train_model(xr_train, yr_train, xr_test, yr_test,\n",
    "                                lstm_sharpe_model, sharpe, 300)"
   ]
  },
  {
   "cell_type": "code",
   "execution_count": null,
   "metadata": {
    "colab": {},
    "colab_type": "code",
    "id": "ipn7rco2z52f"
   },
   "outputs": [],
   "source": [
    "# Get test performance"
   ]
  },
  {
   "cell_type": "code",
   "execution_count": null,
   "metadata": {
    "colab": {},
    "colab_type": "code",
    "id": "sJW2JQZLoHmL"
   },
   "outputs": [],
   "source": [
    "lin_mse_position = linear_mse_model.predict(x_test)\n",
    "lin_sharpe_position = linear_sharpe_model.predict(x_test)\n",
    "\n",
    "mlp_mse_position = mlp_mse_model.predict(x_test)\n",
    "mlp_sharpe_position = mlp_sharpe_model.predict(x_test)\n",
    "\n",
    "lstm_mse_position = lstm_mse_model.predict(xr_test)\n",
    "lstm_sharpe_position = lstm_sharpe_model.predict(xr_test)"
   ]
  },
  {
   "cell_type": "code",
   "execution_count": null,
   "metadata": {
    "colab": {},
    "colab_type": "code",
    "id": "RXJciYt2wv4i"
   },
   "outputs": [],
   "source": [
    "lin_mse_rets = y_test * lin_mse_position\n",
    "lin_sharpe_rets = y_test * lin_sharpe_position\n",
    "\n",
    "mlp_mse_rets = y_test * mlp_mse_position\n",
    "mlp_sharpe_rets = y_test * mlp_sharpe_position\n",
    "\n",
    "lstm_mse_rets = yr_test * lstm_mse_position\n",
    "lstm_sharpe_rets = yr_test * lstm_sharpe_position"
   ]
  },
  {
   "cell_type": "markdown",
   "metadata": {
    "colab_type": "text",
    "id": "L_jrAJxkzOAJ"
   },
   "source": [
    "### Baseline"
   ]
  },
  {
   "cell_type": "code",
   "execution_count": null,
   "metadata": {
    "colab": {
     "base_uri": "https://localhost:8080/",
     "height": 166
    },
    "colab_type": "code",
    "id": "XEMBvF9vzNcZ",
    "outputId": "eab4257c-a118-4d2a-9abf-0b1593ab347b"
   },
   "outputs": [],
   "source": [
    "x_test.shape\n",
    "y_test.shape"
   ]
  },
  {
   "cell_type": "code",
   "execution_count": null,
   "metadata": {
    "colab": {},
    "colab_type": "code",
    "id": "Ku5X0Qatys3t"
   },
   "outputs": [],
   "source": [
    "plt.plot(np.cumsum(lin_mse_rets), 'linear mse')\n",
    "plt.plot(np.cumsum(lin_sharpe_rets), 'linear sharpe')\n",
    "plt.plot(np.cumsum(mlp_mse_rets), 'mlp mse')\n",
    "plt.plot(np.cumsum(mlp_sharpe_rets), 'mlp sharpe')\n",
    "plt.plot(np.cumsum(lstm_mse_rets), 'lstm mse')\n",
    "plt.plot(np.cumsum(lstm_sharpe_rets), 'lstm sharpe')\n"
   ]
  },
  {
   "cell_type": "markdown",
   "metadata": {
    "colab_type": "text",
    "id": "XpodTCP_n82j"
   },
   "source": [
    "## Your job:\n",
    "\n"
   ]
  },
  {
   "cell_type": "markdown",
   "metadata": {
    "colab_type": "text",
    "id": "_1JNlYbtpxnk"
   },
   "source": [
    "- Improve the performance of the models\n",
    "- What is our out of sample performance?\n",
    "- What other metrics can you used to evaluate performance?\n",
    "  - Maxdraw down?\n",
    "  - Sharpe?"
   ]
  },
  {
   "cell_type": "markdown",
   "metadata": {
    "colab_type": "text",
    "id": "T2JXGZ5hGUcY"
   },
   "source": [
    "---"
   ]
  },
  {
   "cell_type": "markdown",
   "metadata": {
    "colab_type": "text",
    "id": "FkHtbc4hsUqm"
   },
   "source": [
    "# How do we improve this?\n",
    "\n",
    "Impactful way to improve performance:\n",
    "- Use less noisy input features \n",
    "  - e.g: n day returns. Rather than just the log ret to the last day, also do the log ret to n days before.\n",
    "- Use more assets and history\n",
    "  - Increases the volume of data you train on.\n",
    "- Hyperparameter search:\n",
    "  - Determine optimum epoch size, optimum model type, optimum loss function, etc...\n",
    "\n",
    "\n",
    "Many of these improvements have been implemented and their performance demonstrated in this paper, Lim et al: https://arxiv.org/abs/1904.04912\n"
   ]
  },
  {
   "cell_type": "code",
   "execution_count": null,
   "metadata": {
    "colab": {},
    "colab_type": "code",
    "id": "c-8gEiZBDDKJ"
   },
   "outputs": [],
   "source": []
  }
 ],
 "metadata": {
  "colab": {
   "collapsed_sections": [],
   "name": "Introduction_to_Financial_Machine_Learning.ipynb",
   "provenance": []
  },
  "kernelspec": {
   "display_name": "Python 3",
   "language": "python",
   "name": "python3"
  },
  "language_info": {
   "codemirror_mode": {
    "name": "ipython",
    "version": 3
   },
   "file_extension": ".py",
   "mimetype": "text/x-python",
   "name": "python",
   "nbconvert_exporter": "python",
   "pygments_lexer": "ipython3",
   "version": "3.7.4"
  }
 },
 "nbformat": 4,
 "nbformat_minor": 4
}
